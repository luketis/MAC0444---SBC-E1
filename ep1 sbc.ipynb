{
 "cells": [
  {
   "cell_type": "code",
   "execution_count": 19,
   "metadata": {
    "collapsed": true
   },
   "outputs": [],
   "source": [
    "def next_occ(element, array, reverse=False):\n",
    "    if reverse:\n",
    "        zipped = zip(range(len(array)-1, -1, -1), reversed(array))\n",
    "    else:\n",
    "        zipped = zip(range(len(array)), array)\n",
    "    try:\n",
    "        return next(i for i,v in zipped if v == element)\n",
    "    except:\n",
    "        return None"
   ]
  },
  {
   "cell_type": "code",
   "execution_count": 48,
   "metadata": {
    "collapsed": true
   },
   "outputs": [],
   "source": [
    "def get_par_contents(array):\n",
    "    zipped = list(zip(range(len(array)), array))\n",
    "    open_pars = [i for i,v in zipped if v == '(']\n",
    "    close_pars = [i for i,v in zipped if v == ')']\n",
    "    #print(open_pars)\n",
    "    #print(close_pars)\n",
    "    contents = []\n",
    "    for op, cp in zip(open_pars, close_pars):\n",
    "        contents += [array[op+1:cp]]\n",
    "    return contents"
   ]
  },
  {
   "cell_type": "code",
   "execution_count": 69,
   "metadata": {
    "collapsed": true
   },
   "outputs": [],
   "source": [
    "def get_movie_name(line, last_tab):\n",
    "    first_par = last_tab + next_occ('(', line[last_tab:])\n",
    "    par_contents = get_par_contents(line)\n",
    "    if 'TV' in par_contents or 'V' in par_contents:\n",
    "        return -1\n",
    "    movie_name = line[last_tab+1:first_par - 1].replace(\" \", \"_\")\n",
    "    return (movie_name, line[first_par+1:first_par+5])"
   ]
  },
  {
   "cell_type": "code",
   "execution_count": 70,
   "metadata": {
    "collapsed": false
   },
   "outputs": [],
   "source": [
    "def get_starred_movies(path):\n",
    "    movies = []\n",
    "    with open(path, encoding='latin-1') as f:\n",
    "        for line in f:\n",
    "            last_tab = next_occ('\\t', line, reverse=True)\n",
    "\n",
    "            if last_tab is None:\n",
    "                continue\n",
    "            movie_name = get_movie_name(line, last_tab)\n",
    "            if movie_name != -1:\n",
    "                movies += [movie_name] \n",
    "    return movies"
   ]
  },
  {
   "cell_type": "code",
   "execution_count": 71,
   "metadata": {
    "collapsed": false
   },
   "outputs": [
    {
     "data": {
      "text/plain": [
       "[('Bottle_Rocket', '1994'),\n",
       " ('Bottle_Rocket', '1996'),\n",
       " ('Castello_Cavalcanti', '2013'),\n",
       " ('Come_Together:_A_Fashion_Picture_in_Motion', '2016'),\n",
       " ('Cousin_Ben_Troop_Screening_with_Jason_Schwartzman', '2012'),\n",
       " ('The_Dead_Hearts', '2009')]"
      ]
     },
     "execution_count": 71,
     "metadata": {},
     "output_type": "execute_result"
    }
   ],
   "source": [
    "get_starred_movies(\"./wes\")"
   ]
  },
  {
   "cell_type": "code",
   "execution_count": 68,
   "metadata": {
    "collapsed": false
   },
   "outputs": [],
   "source": [
    "star_movie = {'wes_movies':get_starred_movies(\"./wes\"),\n",
    "              'tarantino_movies': get_starred_movies(\"./tarantino\"),\n",
    "              'uma_movies': get_starred_movies(\"./uma\"),\n",
    "              'frances_movies': get_starred_movies(\"./frances\"),\n",
    "              'bill_movies': get_starred_movies(\"./bill_murray\"),\n",
    "              'harvey_movies':  get_starred_movies(\"./harvey_keitel\")}\n",
    "\n",
    "movies_list = set(sum([star_movie[key] for key in star_movie], []))"
   ]
  },
  {
   "cell_type": "code",
   "execution_count": null,
   "metadata": {
    "collapsed": true
   },
   "outputs": [],
   "source": [
    "def get_cast(movies, paths):\n",
    "    actor2movie = dict()\n",
    "    movie2actor = dict()\n",
    "    for path in paths:\n",
    "        with open(path, encoding='latin-1') as f:\n",
    "            for line in f:\n",
    "                last_tab = next_occ('\\t', line, reverse=True)\n",
    "\n",
    "                if last_tab is None:\n",
    "                    continue\n",
    "                first_tab = next_occ('\\t', line)\n",
    "                if first_tab != 0:\n",
    "                    actor = line[:first_tab]\n",
    "                movie_name = get_movie_name(line, last_tab)\n",
    "                if movie_name != -1 and movie_name in movies:\n",
    "                    if actor not in actor2movie:\n",
    "                        actor2movie[actor] = []\n",
    "                    actor2movie[actor] += [movie_name]\n",
    "                    if movie_name not in movie2actor:\n",
    "                        movie2actor = []\n",
    "                    movie2actor[movie_name] = actor\n",
    "                    \n",
    "    return actor2movie, movie2actor"
   ]
  },
  {
   "cell_type": "code",
   "execution_count": null,
   "metadata": {
    "collapsed": true
   },
   "outputs": [],
   "source": [
    "actor2movie, movie2actor = get_cast(movies_list, actors_paths)\n",
    "director2movie, movie2director = get_cast(movies_list, director_paths)"
   ]
  },
  {
   "cell_type": "code",
   "execution_count": null,
   "metadata": {
    "collapsed": true
   },
   "outputs": [],
   "source": [
    "    <!-- http://www.semanticweb.org/luketis/ontologies/2017/10/untitled-ontology-2#Kill_Bill -->\n",
    "\n",
    "    <owl:NamedIndividual rdf:about=\"http://www.semanticweb.org/luketis/ontologies/2017/10/untitled-ontology-2#Kill_Bill\">\n",
    "        <rdf:type rdf:resource=\"http://www.semanticweb.org/luketis/ontologies/2017/10/untitled-ontology-2#Movie\"/>\n",
    "        <actor rdf:resource=\"http://www.semanticweb.org/luketis/ontologies/2017/10/untitled-ontology-2#Uma_Thurman\"/>\n",
    "        <director rdf:resource=\"http://www.semanticweb.org/luketis/ontologies/2017/10/untitled-ontology-2#Quentin_Tarantino\"/>\n",
    "        <year rdf:datatype=\"http://www.w3.org/2001/XMLSchema#integer\">2003</year>\n",
    "    </owl:NamedIndividual>\n",
    "    \n",
    "\n",
    "\n",
    "    <!-- http://www.semanticweb.org/luketis/ontologies/2017/10/untitled-ontology-2#Pulp_Fiction -->\n",
    "\n",
    "    <owl:NamedIndividual rdf:about=\"http://www.semanticweb.org/luketis/ontologies/2017/10/untitled-ontology-2#Pulp_Fiction\">\n",
    "        <rdf:type rdf:resource=\"http://www.semanticweb.org/luketis/ontologies/2017/10/untitled-ontology-2#Movie\"/>\n",
    "        <actor rdf:resource=\"http://www.semanticweb.org/luketis/ontologies/2017/10/untitled-ontology-2#Uma_Thurman\"/>\n",
    "        <director rdf:resource=\"http://www.semanticweb.org/luketis/ontologies/2017/10/untitled-ontology-2#Quentin_Tarantino\"/>\n",
    "        <year rdf:datatype=\"http://www.w3.org/2001/XMLSchema#integer\">1994</year>\n",
    "    </owl:NamedIndividual>\n",
    "    \n",
    "\n",
    "\n",
    "    <!-- http://www.semanticweb.org/luketis/ontologies/2017/10/untitled-ontology-2#Quentin_Tarantino -->\n",
    "\n",
    "    <owl:NamedIndividual rdf:about=\"http://www.semanticweb.org/luketis/ontologies/2017/10/untitled-ontology-2#Quentin_Tarantino\">\n",
    "        <rdf:type rdf:resource=\"http://www.semanticweb.org/luketis/ontologies/2017/10/untitled-ontology-2#Director\"/>\n",
    "        <directed rdf:resource=\"http://www.semanticweb.org/luketis/ontologies/2017/10/untitled-ontology-2#Kill_Bill\"/>\n",
    "        <directed rdf:resource=\"http://www.semanticweb.org/luketis/ontologies/2017/10/untitled-ontology-2#Pulp_Fiction\"/>\n",
    "        <renata:FOAF-modifiedage rdf:datatype=\"http://www.w3.org/2001/XMLSchema#integer\">54</renata:FOAF-modifiedage>\n",
    "        <renata:FOAF-modifiedbirthday>03-27</renata:FOAF-modifiedbirthday>\n",
    "        <renata:FOAF-modifiedfamilyName>Tarantino</renata:FOAF-modifiedfamilyName>\n",
    "        <renata:FOAF-modifiedfirstName>Quentin</renata:FOAF-modifiedfirstName>\n",
    "    </owl:NamedIndividual>\n",
    "    \n",
    "\n",
    "\n",
    "    <!-- http://www.semanticweb.org/luketis/ontologies/2017/10/untitled-ontology-2#Uma_Thurman -->\n",
    "\n",
    "    <owl:NamedIndividual rdf:about=\"http://www.semanticweb.org/luketis/ontologies/2017/10/untitled-ontology-2#Uma_Thurman\">\n",
    "        <rdf:type rdf:resource=\"http://www.semanticweb.org/luketis/ontologies/2017/10/untitled-ontology-2#Actor\"/>\n",
    "        <acted_in rdf:resource=\"http://www.semanticweb.org/luketis/ontologies/2017/10/untitled-ontology-2#Kill_Bill\"/>\n",
    "        <acted_in rdf:resource=\"http://www.semanticweb.org/luketis/ontologies/2017/10/untitled-ontology-2#Pulp_Fiction\"/>\n",
    "        <renata:FOAF-modifiedage rdf:datatype=\"http://www.w3.org/2001/XMLSchema#integer\">47</renata:FOAF-modifiedage>\n",
    "        <renata:FOAF-modifiedbirthday>04-29</renata:FOAF-modifiedbirthday>\n",
    "        <renata:FOAF-modifiedfamilyName>Thurman</renata:FOAF-modifiedfamilyName>\n",
    "        <renata:FOAF-modifiedfirstName>Uma</renata:FOAF-modifiedfirstName>\n",
    "    </owl:NamedIndividual>"
   ]
  },
  {
   "cell_type": "code",
   "execution_count": 72,
   "metadata": {
    "collapsed": true
   },
   "outputs": [],
   "source": [
    "rdf_about =  \"\\\"http://www.semanticweb.org/luketis/ontologies/2017/10/untitled-ontology-2#\"\n"
   ]
  },
  {
   "cell_type": "code",
   "execution_count": 73,
   "metadata": {
    "collapsed": false
   },
   "outputs": [
    {
     "name": "stdout",
     "output_type": "stream",
     "text": [
      "\"http://www.semanticweb.org/luketis/ontologies/2017/10/untitled-ontology-2#\n"
     ]
    }
   ],
   "source": []
  },
  {
   "cell_type": "code",
   "execution_count": null,
   "metadata": {
    "collapsed": true
   },
   "outputs": [],
   "source": []
  }
 ],
 "metadata": {
  "kernelspec": {
   "display_name": "Python 3",
   "language": "python",
   "name": "python3"
  },
  "language_info": {
   "codemirror_mode": {
    "name": "ipython",
    "version": 3
   },
   "file_extension": ".py",
   "mimetype": "text/x-python",
   "name": "python",
   "nbconvert_exporter": "python",
   "pygments_lexer": "ipython3",
   "version": "3.5.1"
  }
 },
 "nbformat": 4,
 "nbformat_minor": 0
}
