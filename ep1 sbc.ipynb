{
 "cells": [
  {
   "cell_type": "code",
   "execution_count": 2,
   "metadata": {
    "collapsed": true
   },
   "outputs": [],
   "source": [
    "def next_occ(element, array, reverse=False):\n",
    "    if reverse:\n",
    "        zipped = zip(range(len(array)-1, -1, -1), reversed(array))\n",
    "    else:\n",
    "        zipped = zip(range(len(array)), array)\n",
    "    try:\n",
    "        return next(i for i,v in zipped if v == element)\n",
    "    except:\n",
    "        return None"
   ]
  },
  {
   "cell_type": "code",
   "execution_count": 3,
   "metadata": {
    "collapsed": true
   },
   "outputs": [],
   "source": [
    "def get_par_contents(array):\n",
    "    zipped = list(zip(range(len(array)), array))\n",
    "    open_pars = [i for i,v in zipped if v == '(']\n",
    "    close_pars = [i for i,v in zipped if v == ')']\n",
    "    #print(open_pars)\n",
    "    #print(close_pars)\n",
    "    contents = []\n",
    "    for op, cp in zip(open_pars, close_pars):\n",
    "        contents += [array[op+1:cp]]\n",
    "    return contents"
   ]
  },
  {
   "cell_type": "code",
   "execution_count": 4,
   "metadata": {
    "collapsed": true
   },
   "outputs": [],
   "source": [
    "def get_movie_name(line, last_tab):\n",
    "    first_par = last_tab + next_occ('(', line[last_tab:])\n",
    "    par_contents = get_par_contents(line)\n",
    "    if 'TV' in par_contents or 'V' in par_contents:\n",
    "        return -1\n",
    "    movie_name = line[last_tab+1:first_par - 1].replace(\" \", \"_\")\n",
    "    return (movie_name, line[first_par+1:first_par+5])"
   ]
  },
  {
   "cell_type": "code",
   "execution_count": 5,
   "metadata": {
    "collapsed": true
   },
   "outputs": [],
   "source": [
    "def get_starred_movies(path):\n",
    "    movies = []\n",
    "    with open(path, encoding='latin-1') as f:\n",
    "        for line in f:\n",
    "            last_tab = next_occ('\\t', line, reverse=True)\n",
    "\n",
    "            if last_tab is None:\n",
    "                continue\n",
    "            movie_name = get_movie_name(line, last_tab)\n",
    "            if movie_name != -1:\n",
    "                movies += [movie_name] \n",
    "    return movies"
   ]
  },
  {
   "cell_type": "code",
   "execution_count": 6,
   "metadata": {
    "collapsed": false
   },
   "outputs": [
    {
     "ename": "FileNotFoundError",
     "evalue": "[Errno 2] No such file or directory: './wes'",
     "output_type": "error",
     "traceback": [
      "\u001b[0;31m---------------------------------------------------------------------------\u001b[0m",
      "\u001b[0;31mFileNotFoundError\u001b[0m                         Traceback (most recent call last)",
      "\u001b[0;32m<ipython-input-6-ca46a6f97a6b>\u001b[0m in \u001b[0;36m<module>\u001b[0;34m()\u001b[0m\n\u001b[0;32m----> 1\u001b[0;31m \u001b[0mget_starred_movies\u001b[0m\u001b[0;34m(\u001b[0m\u001b[0;34m\"./wes\"\u001b[0m\u001b[0;34m)\u001b[0m\u001b[0;34m\u001b[0m\u001b[0m\n\u001b[0m",
      "\u001b[0;32m<ipython-input-5-da62b05baf6f>\u001b[0m in \u001b[0;36mget_starred_movies\u001b[0;34m(path)\u001b[0m\n\u001b[1;32m      1\u001b[0m \u001b[0;32mdef\u001b[0m \u001b[0mget_starred_movies\u001b[0m\u001b[0;34m(\u001b[0m\u001b[0mpath\u001b[0m\u001b[0;34m)\u001b[0m\u001b[0;34m:\u001b[0m\u001b[0;34m\u001b[0m\u001b[0m\n\u001b[1;32m      2\u001b[0m     \u001b[0mmovies\u001b[0m \u001b[0;34m=\u001b[0m \u001b[0;34m[\u001b[0m\u001b[0;34m]\u001b[0m\u001b[0;34m\u001b[0m\u001b[0m\n\u001b[0;32m----> 3\u001b[0;31m     \u001b[0;32mwith\u001b[0m \u001b[0mopen\u001b[0m\u001b[0;34m(\u001b[0m\u001b[0mpath\u001b[0m\u001b[0;34m,\u001b[0m \u001b[0mencoding\u001b[0m\u001b[0;34m=\u001b[0m\u001b[0;34m'latin-1'\u001b[0m\u001b[0;34m)\u001b[0m \u001b[0;32mas\u001b[0m \u001b[0mf\u001b[0m\u001b[0;34m:\u001b[0m\u001b[0;34m\u001b[0m\u001b[0m\n\u001b[0m\u001b[1;32m      4\u001b[0m         \u001b[0;32mfor\u001b[0m \u001b[0mline\u001b[0m \u001b[0;32min\u001b[0m \u001b[0mf\u001b[0m\u001b[0;34m:\u001b[0m\u001b[0;34m\u001b[0m\u001b[0m\n\u001b[1;32m      5\u001b[0m             \u001b[0mlast_tab\u001b[0m \u001b[0;34m=\u001b[0m \u001b[0mnext_occ\u001b[0m\u001b[0;34m(\u001b[0m\u001b[0;34m'\\t'\u001b[0m\u001b[0;34m,\u001b[0m \u001b[0mline\u001b[0m\u001b[0;34m,\u001b[0m \u001b[0mreverse\u001b[0m\u001b[0;34m=\u001b[0m\u001b[0;32mTrue\u001b[0m\u001b[0;34m)\u001b[0m\u001b[0;34m\u001b[0m\u001b[0m\n",
      "\u001b[0;31mFileNotFoundError\u001b[0m: [Errno 2] No such file or directory: './wes'"
     ]
    }
   ],
   "source": [
    "get_starred_movies(\"./wes\")"
   ]
  },
  {
   "cell_type": "code",
   "execution_count": 7,
   "metadata": {
    "collapsed": false
   },
   "outputs": [
    {
     "ename": "FileNotFoundError",
     "evalue": "[Errno 2] No such file or directory: './wes'",
     "output_type": "error",
     "traceback": [
      "\u001b[0;31m---------------------------------------------------------------------------\u001b[0m",
      "\u001b[0;31mFileNotFoundError\u001b[0m                         Traceback (most recent call last)",
      "\u001b[0;32m<ipython-input-7-de843f939086>\u001b[0m in \u001b[0;36m<module>\u001b[0;34m()\u001b[0m\n\u001b[0;32m----> 1\u001b[0;31m star_movie = {'wes_movies':get_starred_movies(\"./wes\"),\n\u001b[0m\u001b[1;32m      2\u001b[0m               \u001b[0;34m'tarantino_movies'\u001b[0m\u001b[0;34m:\u001b[0m \u001b[0mget_starred_movies\u001b[0m\u001b[0;34m(\u001b[0m\u001b[0;34m\"./tarantino\"\u001b[0m\u001b[0;34m)\u001b[0m\u001b[0;34m,\u001b[0m\u001b[0;34m\u001b[0m\u001b[0m\n\u001b[1;32m      3\u001b[0m               \u001b[0;34m'uma_movies'\u001b[0m\u001b[0;34m:\u001b[0m \u001b[0mget_starred_movies\u001b[0m\u001b[0;34m(\u001b[0m\u001b[0;34m\"./uma\"\u001b[0m\u001b[0;34m)\u001b[0m\u001b[0;34m,\u001b[0m\u001b[0;34m\u001b[0m\u001b[0m\n\u001b[1;32m      4\u001b[0m               \u001b[0;34m'frances_movies'\u001b[0m\u001b[0;34m:\u001b[0m \u001b[0mget_starred_movies\u001b[0m\u001b[0;34m(\u001b[0m\u001b[0;34m\"./frances\"\u001b[0m\u001b[0;34m)\u001b[0m\u001b[0;34m,\u001b[0m\u001b[0;34m\u001b[0m\u001b[0m\n\u001b[1;32m      5\u001b[0m               \u001b[0;34m'bill_movies'\u001b[0m\u001b[0;34m:\u001b[0m \u001b[0mget_starred_movies\u001b[0m\u001b[0;34m(\u001b[0m\u001b[0;34m\"./bill_murray\"\u001b[0m\u001b[0;34m)\u001b[0m\u001b[0;34m,\u001b[0m\u001b[0;34m\u001b[0m\u001b[0m\n",
      "\u001b[0;32m<ipython-input-5-da62b05baf6f>\u001b[0m in \u001b[0;36mget_starred_movies\u001b[0;34m(path)\u001b[0m\n\u001b[1;32m      1\u001b[0m \u001b[0;32mdef\u001b[0m \u001b[0mget_starred_movies\u001b[0m\u001b[0;34m(\u001b[0m\u001b[0mpath\u001b[0m\u001b[0;34m)\u001b[0m\u001b[0;34m:\u001b[0m\u001b[0;34m\u001b[0m\u001b[0m\n\u001b[1;32m      2\u001b[0m     \u001b[0mmovies\u001b[0m \u001b[0;34m=\u001b[0m \u001b[0;34m[\u001b[0m\u001b[0;34m]\u001b[0m\u001b[0;34m\u001b[0m\u001b[0m\n\u001b[0;32m----> 3\u001b[0;31m     \u001b[0;32mwith\u001b[0m \u001b[0mopen\u001b[0m\u001b[0;34m(\u001b[0m\u001b[0mpath\u001b[0m\u001b[0;34m,\u001b[0m \u001b[0mencoding\u001b[0m\u001b[0;34m=\u001b[0m\u001b[0;34m'latin-1'\u001b[0m\u001b[0;34m)\u001b[0m \u001b[0;32mas\u001b[0m \u001b[0mf\u001b[0m\u001b[0;34m:\u001b[0m\u001b[0;34m\u001b[0m\u001b[0m\n\u001b[0m\u001b[1;32m      4\u001b[0m         \u001b[0;32mfor\u001b[0m \u001b[0mline\u001b[0m \u001b[0;32min\u001b[0m \u001b[0mf\u001b[0m\u001b[0;34m:\u001b[0m\u001b[0;34m\u001b[0m\u001b[0m\n\u001b[1;32m      5\u001b[0m             \u001b[0mlast_tab\u001b[0m \u001b[0;34m=\u001b[0m \u001b[0mnext_occ\u001b[0m\u001b[0;34m(\u001b[0m\u001b[0;34m'\\t'\u001b[0m\u001b[0;34m,\u001b[0m \u001b[0mline\u001b[0m\u001b[0;34m,\u001b[0m \u001b[0mreverse\u001b[0m\u001b[0;34m=\u001b[0m\u001b[0;32mTrue\u001b[0m\u001b[0;34m)\u001b[0m\u001b[0;34m\u001b[0m\u001b[0m\n",
      "\u001b[0;31mFileNotFoundError\u001b[0m: [Errno 2] No such file or directory: './wes'"
     ]
    }
   ],
   "source": [
    "star_movie = {'wes_movies':get_starred_movies(\"./wes\"),\n",
    "              'tarantino_movies': get_starred_movies(\"./tarantino\"),\n",
    "              'uma_movies': get_starred_movies(\"./uma\"),\n",
    "              'frances_movies': get_starred_movies(\"./frances\"),\n",
    "              'bill_movies': get_starred_movies(\"./bill_murray\"),\n",
    "              'harvey_movies':  get_starred_movies(\"./harvey_keitel\")}\n",
    "\n",
    "movies_list = set(sum([star_movie[key] for key in star_movie], []))"
   ]
  },
  {
   "cell_type": "code",
   "execution_count": 8,
   "metadata": {
    "collapsed": true
   },
   "outputs": [],
   "source": [
    "def get_cast(movies, paths):\n",
    "    actor2movie = dict()\n",
    "    movie2actor = dict()\n",
    "    for path in paths:\n",
    "        with open(path, encoding='latin-1') as f:\n",
    "            for line in f:\n",
    "                last_tab = next_occ('\\t', line, reverse=True)\n",
    "\n",
    "                if last_tab is None:\n",
    "                    continue\n",
    "                first_tab = next_occ('\\t', line)\n",
    "                if first_tab != 0:\n",
    "                    actor = line[:first_tab]\n",
    "                movie_name = get_movie_name(line, last_tab)\n",
    "                if movie_name != -1 and movie_name in movies:\n",
    "                    if actor not in actor2movie:\n",
    "                        actor2movie[actor] = []\n",
    "                    actor2movie[actor] += [movie_name]\n",
    "                    if movie_name not in movie2actor:\n",
    "                        movie2actor = []\n",
    "                    movie2actor[movie_name] = actor\n",
    "                    \n",
    "    return actor2movie, movie2actor"
   ]
  },
  {
   "cell_type": "code",
   "execution_count": 9,
   "metadata": {
    "collapsed": false
   },
   "outputs": [
    {
     "ename": "NameError",
     "evalue": "name 'movies_list' is not defined",
     "output_type": "error",
     "traceback": [
      "\u001b[0;31m---------------------------------------------------------------------------\u001b[0m",
      "\u001b[0;31mNameError\u001b[0m                                 Traceback (most recent call last)",
      "\u001b[0;32m<ipython-input-9-235965f3bec4>\u001b[0m in \u001b[0;36m<module>\u001b[0;34m()\u001b[0m\n\u001b[0;32m----> 1\u001b[0;31m \u001b[0mactor2movie\u001b[0m\u001b[0;34m,\u001b[0m \u001b[0mmovie2actor\u001b[0m \u001b[0;34m=\u001b[0m \u001b[0mget_cast\u001b[0m\u001b[0;34m(\u001b[0m\u001b[0mmovies_list\u001b[0m\u001b[0;34m,\u001b[0m \u001b[0mactors_paths\u001b[0m\u001b[0;34m)\u001b[0m\u001b[0;34m\u001b[0m\u001b[0m\n\u001b[0m\u001b[1;32m      2\u001b[0m \u001b[0mdirector2movie\u001b[0m\u001b[0;34m,\u001b[0m \u001b[0mmovie2director\u001b[0m \u001b[0;34m=\u001b[0m \u001b[0mget_cast\u001b[0m\u001b[0;34m(\u001b[0m\u001b[0mmovies_list\u001b[0m\u001b[0;34m,\u001b[0m \u001b[0mdirector_paths\u001b[0m\u001b[0;34m)\u001b[0m\u001b[0;34m\u001b[0m\u001b[0m\n",
      "\u001b[0;31mNameError\u001b[0m: name 'movies_list' is not defined"
     ]
    }
   ],
   "source": [
    "actor2movie, movie2actor = get_cast(movies_list, actors_paths)\n",
    "director2movie, movie2director = get_cast(movies_list, director_paths)"
   ]
  },
  {
   "cell_type": "code",
   "execution_count": 10,
   "metadata": {
    "collapsed": false
   },
   "outputs": [
    {
     "ename": "SyntaxError",
     "evalue": "invalid syntax (<ipython-input-10-a160ca4d749f>, line 1)",
     "output_type": "error",
     "traceback": [
      "\u001b[0;36m  File \u001b[0;32m\"<ipython-input-10-a160ca4d749f>\"\u001b[0;36m, line \u001b[0;32m1\u001b[0m\n\u001b[0;31m    <!-- http://www.semanticweb.org/luketis/ontologies/2017/10/untitled-ontology-2#Kill_Bill -->\u001b[0m\n\u001b[0m    ^\u001b[0m\n\u001b[0;31mSyntaxError\u001b[0m\u001b[0;31m:\u001b[0m invalid syntax\n"
     ]
    }
   ],
   "source": [
    "    <!-- http://www.semanticweb.org/luketis/ontologies/2017/10/untitled-ontology-2#Kill_Bill -->\n",
    "\n",
    "    <owl:NamedIndividual rdf:about=\"http://www.semanticweb.org/luketis/ontologies/2017/10/untitled-ontology-2#Kill_Bill\">\n",
    "        <rdf:type rdf:resource=\"http://www.semanticweb.org/luketis/ontologies/2017/10/untitled-ontology-2#Movie\"/>\n",
    "        <actor rdf:resource=\"http://www.semanticweb.org/luketis/ontologies/2017/10/untitled-ontology-2#Uma_Thurman\"/>\n",
    "        <director rdf:resource=\"http://www.semanticweb.org/luketis/ontologies/2017/10/untitled-ontology-2#Quentin_Tarantino\"/>\n",
    "        <year rdf:datatype=\"http://www.w3.org/2001/XMLSchema#integer\">2003</year>\n",
    "    </owl:NamedIndividual>\n",
    "    \n",
    "\n",
    "\n",
    "    <!-- http://www.semanticweb.org/luketis/ontologies/2017/10/untitled-ontology-2#Pulp_Fiction -->\n",
    "\n",
    "    <owl:NamedIndividual rdf:about=\"http://www.semanticweb.org/luketis/ontologies/2017/10/untitled-ontology-2#Pulp_Fiction\">\n",
    "        <rdf:type rdf:resource=\"http://www.semanticweb.org/luketis/ontologies/2017/10/untitled-ontology-2#Movie\"/>\n",
    "        <actor rdf:resource=\"http://www.semanticweb.org/luketis/ontologies/2017/10/untitled-ontology-2#Uma_Thurman\"/>\n",
    "        <director rdf:resource=\"http://www.semanticweb.org/luketis/ontologies/2017/10/untitled-ontology-2#Quentin_Tarantino\"/>\n",
    "        <year rdf:datatype=\"http://www.w3.org/2001/XMLSchema#integer\">1994</year>\n",
    "    </owl:NamedIndividual>\n",
    "    \n",
    "\n",
    "\n",
    "    <!-- http://www.semanticweb.org/luketis/ontologies/2017/10/untitled-ontology-2#Quentin_Tarantino -->\n",
    "\n",
    "    <owl:NamedIndividual rdf:about=\"http://www.semanticweb.org/luketis/ontologies/2017/10/untitled-ontology-2#Quentin_Tarantino\">\n",
    "        <rdf:type rdf:resource=\"http://www.semanticweb.org/luketis/ontologies/2017/10/untitled-ontology-2#Director\"/>\n",
    "        <directed rdf:resource=\"http://www.semanticweb.org/luketis/ontologies/2017/10/untitled-ontology-2#Kill_Bill\"/>\n",
    "        <directed rdf:resource=\"http://www.semanticweb.org/luketis/ontologies/2017/10/untitled-ontology-2#Pulp_Fiction\"/>\n",
    "        <renata:FOAF-modifiedage rdf:datatype=\"http://www.w3.org/2001/XMLSchema#integer\">54</renata:FOAF-modifiedage>\n",
    "        <renata:FOAF-modifiedbirthday>03-27</renata:FOAF-modifiedbirthday>\n",
    "        <renata:FOAF-modifiedfamilyName>Tarantino</renata:FOAF-modifiedfamilyName>\n",
    "        <renata:FOAF-modifiedfirstName>Quentin</renata:FOAF-modifiedfirstName>\n",
    "    </owl:NamedIndividual>\n",
    "    \n",
    "\n",
    "\n",
    "    <!-- http://www.semanticweb.org/luketis/ontologies/2017/10/untitled-ontology-2#Uma_Thurman -->\n",
    "\n",
    "    <owl:NamedIndividual rdf:about=\"http://www.semanticweb.org/luketis/ontologies/2017/10/untitled-ontology-2#Uma_Thurman\">\n",
    "        <rdf:type rdf:resource=\"http://www.semanticweb.org/luketis/ontologies/2017/10/untitled-ontology-2#Actor\"/>\n",
    "        <acted_in rdf:resource=\"http://www.semanticweb.org/luketis/ontologies/2017/10/untitled-ontology-2#Kill_Bill\"/>\n",
    "        <acted_in rdf:resource=\"http://www.semanticweb.org/luketis/ontologies/2017/10/untitled-ontology-2#Pulp_Fiction\"/>\n",
    "        <renata:FOAF-modifiedage rdf:datatype=\"http://www.w3.org/2001/XMLSchema#integer\">47</renata:FOAF-modifiedage>\n",
    "        <renata:FOAF-modifiedbirthday>04-29</renata:FOAF-modifiedbirthday>\n",
    "        <renata:FOAF-modifiedfamilyName>Thurman</renata:FOAF-modifiedfamilyName>\n",
    "        <renata:FOAF-modifiedfirstName>Uma</renata:FOAF-modifiedfirstName>\n",
    "    </owl:NamedIndividual>\n",
    "        \n",
    "        \n",
    "        \n",
    "        \n",
    "Individual: untitled-ontology-2:Pulp_Fiction\n",
    "\n",
    "    Types: \n",
    "        untitled-ontology-2:Movie\n",
    "    \n",
    "    Facts:  \n",
    "     untitled-ontology-2:actor  untitled-ontology-2:Uma_Thurman,\n",
    "     untitled-ontology-2:director  untitled-ontology-2:Quentin_Tarantino,\n",
    "     untitled-ontology-2:year  1994\n",
    "    \n",
    "    \n",
    "Individual: untitled-ontology-2:Quentin_Tarantino\n",
    "\n",
    "    Types: \n",
    "        untitled-ontology-2:Director\n",
    "    \n",
    "    Facts:  \n",
    "     untitled-ontology-2:directed  untitled-ontology-2:Kill_Bill,\n",
    "     untitled-ontology-2:directed  untitled-ontology-2:Pulp_Fiction,\n",
    "     renata:FOAF-modifiedage  54,\n",
    "     renata:FOAF-modifiedbirthday  \"03-27\",\n",
    "     renata:FOAF-modifiedfamilyName  \"Tarantino\",\n",
    "     renata:FOAF-modifiedfirstName  \"Quentin\"\n",
    "    \n",
    "    \n",
    "Individual: untitled-ontology-2:Uma_Thurman\n",
    "\n",
    "    Types: \n",
    "        untitled-ontology-2:Actor\n",
    "    \n",
    "    Facts:  \n",
    "     untitled-ontology-2:acted_in  untitled-ontology-2:Kill_Bill,\n",
    "     untitled-ontology-2:acted_in  untitled-ontology-2:Pulp_Fiction,\n",
    "     renata:FOAF-modifiedage  47,\n",
    "     renata:FOAF-modifiedbirthday  \"04-29\",\n",
    "     renata:FOAF-modifiedfamilyName  \"Thurman\",\n",
    "     renata:FOAF-modifiedfirstName  \"Uma\""
   ]
  },
  {
   "cell_type": "code",
   "execution_count": 6,
   "metadata": {
    "collapsed": true
   },
   "outputs": [],
   "source": [
    "rdf_about =  \"\\\"http://www.semanticweb.org/luketis/ontologies/2017/10/untitled-ontology-2#\"\n",
    "rdf_about = \"untitled-ontology-2\"\n",
    "actors= {\"Uma_Thurman\": [(\"Kill_Bill\", 2013), (\"Pulp_fiction\", 2918)]}"
   ]
  },
  {
   "cell_type": "code",
   "execution_count": 11,
   "metadata": {
    "collapsed": false
   },
   "outputs": [],
   "source": [
    "def set_ontology_ad(dict_of, type_data, prefix, path, rel):\n",
    "    for element in dict_of:\n",
    "        print(\"Individual: \" + prefix + \":\" + element)\n",
    "        print()\n",
    "        print(\"    Types:\")\n",
    "        print(\"        \" + prefix + \":\" + type_data)\n",
    "        print(\"    Facts:\")\n",
    "        for movie in dict_of[element]:\n",
    "            print(\"     \"+prefix+\":\"+rel+\"  \"+prefix+\":\"+movie[0]+\",\")\n",
    "        name = element.split(\"_\")\n",
    "        print(\"     renata:FOAF-modifiedfamilyName  \\\"\"+name[1]+\"\\\",\")\n",
    "        print(\"     renata:FOAF-modifiedfirstName  \\\"\"+name[0]+ \"\\\"\")\n",
    "        print()\n",
    "        print()"
   ]
  },
  {
   "cell_type": "code",
   "execution_count": 12,
   "metadata": {
    "collapsed": false
   },
   "outputs": [
    {
     "name": "stdout",
     "output_type": "stream",
     "text": [
      "Individual: untitled-ontology-2:Uma_Thurman\n",
      "\n",
      "    Types:\n",
      "        untitled-ontology-2:Actor\n",
      "    Facts:\n",
      "     untitled-ontology-2:directed  untitled-ontology-2:Kill_Bill,\n",
      "     untitled-ontology-2:directed  untitled-ontology-2:Pulp_fiction,\n",
      "     renata:FOAF-modifiedfamilyName  \"Thurman\",\n",
      "     renata:FOAF-modifiedfirstName  \"Uma\"\n",
      "\n",
      "\n"
     ]
    }
   ],
   "source": [
    "set_ontology_ad(actors, \"Actor\", rdf_about, \"a\", \"directed\")"
   ]
  },
  {
   "cell_type": "code",
   "execution_count": 13,
   "metadata": {
    "collapsed": true
   },
   "outputs": [],
   "source": [
    "def set_ontology_m(movies_ac, movies_dir, prefix, path):\n",
    "    for element in movies_ac:\n",
    "        print(\"Individual: \" + prefix + \":\" + element[0])\n",
    "        print()\n",
    "        print(\"    Types:\")\n",
    "        print(\"        \" + prefix + \":Movie\")\n",
    "        print(\"    Facts:\")\n",
    "        for director in movies_dir[element]:\n",
    "            print(\"     \" + prefix + \":director  \"+prefix+\":\"+director +\",\")\n",
    "        for actor in movies_ac[element]:\n",
    "            print(\"     \"+prefix+\":actor  \"+prefix+\":\"+actor+\",\")\n",
    "        print(\"     \"+prefix+\":year  \"+str(element[1]))\n",
    "        print()\n",
    "        print()"
   ]
  },
  {
   "cell_type": "code",
   "execution_count": 14,
   "metadata": {
    "collapsed": true
   },
   "outputs": [],
   "source": [
    "movies_ac= {(\"Kill_Bill\", 2013):[\"Uma_Thurman\", \"bigo\"], (\"Pulp_fiction\", 2918):[\"john\", \"bigo\"]}"
   ]
  },
  {
   "cell_type": "code",
   "execution_count": 15,
   "metadata": {
    "collapsed": true
   },
   "outputs": [],
   "source": [
    "movies_dir= {(\"Kill_Bill\", 2013):[\"bigo\"], (\"Pulp_fiction\", 2918):[\"bigo\"]}"
   ]
  },
  {
   "cell_type": "code",
   "execution_count": 16,
   "metadata": {
    "collapsed": false
   },
   "outputs": [
    {
     "name": "stdout",
     "output_type": "stream",
     "text": [
      "Individual: untitled-ontology-2:Kill_Bill\n",
      "\n",
      "    Types:\n",
      "        untitled-ontology-2:Movie\n",
      "    Facts:\n",
      "     untitled-ontology-2:director  untitled-ontology-2:bigo,\n",
      "     untitled-ontology-2:actor  untitled-ontology-2:Uma_Thurman,\n",
      "     untitled-ontology-2:actor  untitled-ontology-2:bigo,\n",
      "     untitled-ontology-2:year  2013\n",
      "\n",
      "\n",
      "Individual: untitled-ontology-2:Pulp_fiction\n",
      "\n",
      "    Types:\n",
      "        untitled-ontology-2:Movie\n",
      "    Facts:\n",
      "     untitled-ontology-2:director  untitled-ontology-2:bigo,\n",
      "     untitled-ontology-2:actor  untitled-ontology-2:john,\n",
      "     untitled-ontology-2:actor  untitled-ontology-2:bigo,\n",
      "     untitled-ontology-2:year  2918\n",
      "\n",
      "\n"
     ]
    }
   ],
   "source": [
    "set_ontology_m(movies_ac, movies_dir, rdf_about, \"a\")"
   ]
  },
  {
   "cell_type": "code",
   "execution_count": null,
   "metadata": {
    "collapsed": true
   },
   "outputs": [],
   "source": [
    "print(\"</rdf:RDF>\")\n",
    "\n",
    "\n",
    "\n",
    "print(\"<!-- Generated by the OWL API (version 4.2.8.20170104-2310) https://github.com/owlcs/owlapi -->\")\n"
   ]
  }
 ],
 "metadata": {
  "kernelspec": {
   "display_name": "Python 3",
   "language": "python",
   "name": "python3"
  },
  "language_info": {
   "codemirror_mode": {
    "name": "ipython",
    "version": 3
   },
   "file_extension": ".py",
   "mimetype": "text/x-python",
   "name": "python",
   "nbconvert_exporter": "python",
   "pygments_lexer": "ipython3",
   "version": "3.5.4"
  }
 },
 "nbformat": 4,
 "nbformat_minor": 1
}
